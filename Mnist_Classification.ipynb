{
 "cells": [
  {
   "cell_type": "markdown",
   "source": [
    "# MNIST Digit Classification\n",
    "\n",
    "This notebook demonstrates the process of classifying handwritten digits using the MNIST dataset. Start by importing necessary libraries and modules. This includes `sklearn` for dataset loading and splitting, `keras` for data preprocessing, and `matplotlib` for visualization.\n",
    "\n",
    "## Import Libraries\n"
   ],
   "metadata": {
    "collapsed": false
   },
   "id": "93c8e433eb8f094c"
  },
  {
   "cell_type": "code",
   "execution_count": 239,
   "outputs": [],
   "source": [
    "from sklearn.datasets import load_digits\n",
    "from sklearn.model_selection import train_test_split\n",
    "from sklearn.metrics import precision_recall_fscore_support\n",
    "from keras.utils import to_categorical\n",
    "import pandas as pd\n",
    "import numpy as np\n",
    "import matplotlib.pyplot as plt\n",
    "%matplotlib inline"
   ],
   "metadata": {
    "collapsed": false,
    "ExecuteTime": {
     "end_time": "2023-12-23T10:50:02.342699Z",
     "start_time": "2023-12-23T10:50:02.257935Z"
    }
   },
   "id": "initial_id"
  },
  {
   "cell_type": "markdown",
   "source": [
    "## Loading the MNIST Dataset\n",
    "\n",
    "load the MNIST dataset and examine its keys to understand the data structure. \n"
   ],
   "metadata": {
    "collapsed": false
   },
   "id": "ea300d31f7306228"
  },
  {
   "cell_type": "code",
   "execution_count": 240,
   "outputs": [
    {
     "data": {
      "text/plain": "dict_keys(['data', 'target', 'frame', 'feature_names', 'target_names', 'images', 'DESCR'])"
     },
     "execution_count": 240,
     "metadata": {},
     "output_type": "execute_result"
    }
   ],
   "source": [
    "mnist = load_digits()\n",
    "mnist.keys()"
   ],
   "metadata": {
    "collapsed": false,
    "ExecuteTime": {
     "end_time": "2023-12-23T10:50:02.376459Z",
     "start_time": "2023-12-23T10:50:02.263086Z"
    }
   },
   "id": "5aa0ab5c8b92f0ea"
  },
  {
   "cell_type": "markdown",
   "source": [
    "## Data Exploration\n",
    "\n",
    "Converting the data into a pandas DataFrame for better visualization and analysis. Displaying the first few rows of the dataset to get an idea of the data.\n"
   ],
   "metadata": {
    "collapsed": false
   },
   "id": "f97d2057dd2ba6f6"
  },
  {
   "cell_type": "code",
   "execution_count": 241,
   "outputs": [
    {
     "data": {
      "text/plain": "    0    1    2     3     4     5    6    7    8    9   ...   54   55   56  \\\n0  0.0  0.0  5.0  13.0   9.0   1.0  0.0  0.0  0.0  0.0  ...  0.0  0.0  0.0   \n1  0.0  0.0  0.0  12.0  13.0   5.0  0.0  0.0  0.0  0.0  ...  0.0  0.0  0.0   \n2  0.0  0.0  0.0   4.0  15.0  12.0  0.0  0.0  0.0  0.0  ...  5.0  0.0  0.0   \n3  0.0  0.0  7.0  15.0  13.0   1.0  0.0  0.0  0.0  8.0  ...  9.0  0.0  0.0   \n4  0.0  0.0  0.0   1.0  11.0   0.0  0.0  0.0  0.0  0.0  ...  0.0  0.0  0.0   \n\n    57   58    59    60    61   62   63  \n0  0.0  6.0  13.0  10.0   0.0  0.0  0.0  \n1  0.0  0.0  11.0  16.0  10.0  0.0  0.0  \n2  0.0  0.0   3.0  11.0  16.0  9.0  0.0  \n3  0.0  7.0  13.0  13.0   9.0  0.0  0.0  \n4  0.0  0.0   2.0  16.0   4.0  0.0  0.0  \n\n[5 rows x 64 columns]",
      "text/html": "<div>\n<style scoped>\n    .dataframe tbody tr th:only-of-type {\n        vertical-align: middle;\n    }\n\n    .dataframe tbody tr th {\n        vertical-align: top;\n    }\n\n    .dataframe thead th {\n        text-align: right;\n    }\n</style>\n<table border=\"1\" class=\"dataframe\">\n  <thead>\n    <tr style=\"text-align: right;\">\n      <th></th>\n      <th>0</th>\n      <th>1</th>\n      <th>2</th>\n      <th>3</th>\n      <th>4</th>\n      <th>5</th>\n      <th>6</th>\n      <th>7</th>\n      <th>8</th>\n      <th>9</th>\n      <th>...</th>\n      <th>54</th>\n      <th>55</th>\n      <th>56</th>\n      <th>57</th>\n      <th>58</th>\n      <th>59</th>\n      <th>60</th>\n      <th>61</th>\n      <th>62</th>\n      <th>63</th>\n    </tr>\n  </thead>\n  <tbody>\n    <tr>\n      <th>0</th>\n      <td>0.0</td>\n      <td>0.0</td>\n      <td>5.0</td>\n      <td>13.0</td>\n      <td>9.0</td>\n      <td>1.0</td>\n      <td>0.0</td>\n      <td>0.0</td>\n      <td>0.0</td>\n      <td>0.0</td>\n      <td>...</td>\n      <td>0.0</td>\n      <td>0.0</td>\n      <td>0.0</td>\n      <td>0.0</td>\n      <td>6.0</td>\n      <td>13.0</td>\n      <td>10.0</td>\n      <td>0.0</td>\n      <td>0.0</td>\n      <td>0.0</td>\n    </tr>\n    <tr>\n      <th>1</th>\n      <td>0.0</td>\n      <td>0.0</td>\n      <td>0.0</td>\n      <td>12.0</td>\n      <td>13.0</td>\n      <td>5.0</td>\n      <td>0.0</td>\n      <td>0.0</td>\n      <td>0.0</td>\n      <td>0.0</td>\n      <td>...</td>\n      <td>0.0</td>\n      <td>0.0</td>\n      <td>0.0</td>\n      <td>0.0</td>\n      <td>0.0</td>\n      <td>11.0</td>\n      <td>16.0</td>\n      <td>10.0</td>\n      <td>0.0</td>\n      <td>0.0</td>\n    </tr>\n    <tr>\n      <th>2</th>\n      <td>0.0</td>\n      <td>0.0</td>\n      <td>0.0</td>\n      <td>4.0</td>\n      <td>15.0</td>\n      <td>12.0</td>\n      <td>0.0</td>\n      <td>0.0</td>\n      <td>0.0</td>\n      <td>0.0</td>\n      <td>...</td>\n      <td>5.0</td>\n      <td>0.0</td>\n      <td>0.0</td>\n      <td>0.0</td>\n      <td>0.0</td>\n      <td>3.0</td>\n      <td>11.0</td>\n      <td>16.0</td>\n      <td>9.0</td>\n      <td>0.0</td>\n    </tr>\n    <tr>\n      <th>3</th>\n      <td>0.0</td>\n      <td>0.0</td>\n      <td>7.0</td>\n      <td>15.0</td>\n      <td>13.0</td>\n      <td>1.0</td>\n      <td>0.0</td>\n      <td>0.0</td>\n      <td>0.0</td>\n      <td>8.0</td>\n      <td>...</td>\n      <td>9.0</td>\n      <td>0.0</td>\n      <td>0.0</td>\n      <td>0.0</td>\n      <td>7.0</td>\n      <td>13.0</td>\n      <td>13.0</td>\n      <td>9.0</td>\n      <td>0.0</td>\n      <td>0.0</td>\n    </tr>\n    <tr>\n      <th>4</th>\n      <td>0.0</td>\n      <td>0.0</td>\n      <td>0.0</td>\n      <td>1.0</td>\n      <td>11.0</td>\n      <td>0.0</td>\n      <td>0.0</td>\n      <td>0.0</td>\n      <td>0.0</td>\n      <td>0.0</td>\n      <td>...</td>\n      <td>0.0</td>\n      <td>0.0</td>\n      <td>0.0</td>\n      <td>0.0</td>\n      <td>0.0</td>\n      <td>2.0</td>\n      <td>16.0</td>\n      <td>4.0</td>\n      <td>0.0</td>\n      <td>0.0</td>\n    </tr>\n  </tbody>\n</table>\n<p>5 rows × 64 columns</p>\n</div>"
     },
     "execution_count": 241,
     "metadata": {},
     "output_type": "execute_result"
    }
   ],
   "source": [
    "data_mnist = pd.DataFrame(mnist.data)\n",
    "data_mnist.head()"
   ],
   "metadata": {
    "collapsed": false,
    "ExecuteTime": {
     "end_time": "2023-12-23T10:50:02.377874Z",
     "start_time": "2023-12-23T10:50:02.279791Z"
    }
   },
   "id": "d8916060c1532737"
  },
  {
   "cell_type": "markdown",
   "source": [
    "## Data Preparation\n",
    "\n",
    "Converting the data into a numpy array, which will be used for training the machine learning model.\n"
   ],
   "metadata": {
    "collapsed": false
   },
   "id": "9639c19f12a0fe8e"
  },
  {
   "cell_type": "code",
   "execution_count": 242,
   "outputs": [],
   "source": [
    "data = np.array(data_mnist)"
   ],
   "metadata": {
    "collapsed": false,
    "ExecuteTime": {
     "end_time": "2023-12-23T10:50:02.396664Z",
     "start_time": "2023-12-23T10:50:02.290100Z"
    }
   },
   "id": "92e03ba51df76cee"
  },
  {
   "cell_type": "code",
   "execution_count": 243,
   "outputs": [
    {
     "data": {
      "text/plain": "   0\n0  0\n1  1\n2  2\n3  3\n4  4",
      "text/html": "<div>\n<style scoped>\n    .dataframe tbody tr th:only-of-type {\n        vertical-align: middle;\n    }\n\n    .dataframe tbody tr th {\n        vertical-align: top;\n    }\n\n    .dataframe thead th {\n        text-align: right;\n    }\n</style>\n<table border=\"1\" class=\"dataframe\">\n  <thead>\n    <tr style=\"text-align: right;\">\n      <th></th>\n      <th>0</th>\n    </tr>\n  </thead>\n  <tbody>\n    <tr>\n      <th>0</th>\n      <td>0</td>\n    </tr>\n    <tr>\n      <th>1</th>\n      <td>1</td>\n    </tr>\n    <tr>\n      <th>2</th>\n      <td>2</td>\n    </tr>\n    <tr>\n      <th>3</th>\n      <td>3</td>\n    </tr>\n    <tr>\n      <th>4</th>\n      <td>4</td>\n    </tr>\n  </tbody>\n</table>\n</div>"
     },
     "execution_count": 243,
     "metadata": {},
     "output_type": "execute_result"
    }
   ],
   "source": [
    "target_mnist = pd.DataFrame(mnist.target)\n",
    "target_mnist.head()"
   ],
   "metadata": {
    "collapsed": false,
    "ExecuteTime": {
     "end_time": "2023-12-23T10:50:02.413869Z",
     "start_time": "2023-12-23T10:50:02.294866Z"
    }
   },
   "id": "b07eec6e2334e34"
  },
  {
   "cell_type": "code",
   "execution_count": 244,
   "outputs": [],
   "source": [
    "target = np.array(target_mnist)"
   ],
   "metadata": {
    "collapsed": false,
    "ExecuteTime": {
     "end_time": "2023-12-23T10:50:02.414002Z",
     "start_time": "2023-12-23T10:50:02.297406Z"
    }
   },
   "id": "5d5b877c6805c130"
  },
  {
   "cell_type": "code",
   "execution_count": 245,
   "outputs": [
    {
     "name": "stdout",
     "output_type": "stream",
     "text": [
      "1797 64\n"
     ]
    },
    {
     "data": {
      "text/plain": "<Figure size 640x480 with 1 Axes>",
      "image/png": "[encoded data removed]"
     },
     "metadata": {},
     "output_type": "display_data"
    }
   ],
   "source": [
    "m, n = data_mnist.shape\n",
    "plt.imshow(mnist.images[0])\n",
    "print(m, n)"
   ],
   "metadata": {
    "collapsed": false,
    "ExecuteTime": {
     "end_time": "2023-12-23T10:50:02.425620Z",
     "start_time": "2023-12-23T10:50:02.300855Z"
    }
   },
   "id": "3db8309dbff48c4"
  },
  {
   "cell_type": "code",
   "execution_count": 246,
   "outputs": [
    {
     "data": {
      "text/plain": "<Figure size 1600x600 with 20 Axes>",
      "image/png": "[encoded data removed]"
     },
     "metadata": {},
     "output_type": "display_data"
    }
   ],
   "source": [
    "fig, axes = plt.subplots(2, 10, figsize=(16, 6))\n",
    "for i in range(20):\n",
    "    axes[i//10, i %10].imshow(mnist.images[i], cmap='gray')\n",
    "    axes[i//10, i %10].axis('off')\n",
    "    axes[i//10, i %10].set_title(f\"target: {mnist.target[i]}\")\n",
    "    \n",
    "plt.tight_layout()"
   ],
   "metadata": {
    "collapsed": false,
    "ExecuteTime": {
     "end_time": "2023-12-23T10:50:02.820907Z",
     "start_time": "2023-12-23T10:50:02.485281Z"
    }
   },
   "id": "92c61036744cacb8"
  },
  {
   "cell_type": "markdown",
   "source": [
    "## Train-Test Split\n",
    "\n",
    "Splitting the dataset into training and test sets. \n",
    "Turning labels into categorical values by utilizing kera's library\n"
   ],
   "metadata": {
    "collapsed": false
   },
   "id": "49ef0eac70a9ccd0"
  },
  {
   "cell_type": "code",
   "execution_count": 247,
   "outputs": [],
   "source": [
    "# Get 60% of the dataset as the training set. Put the remaining 40% in temporary variables: x_temp and y_temp.\n",
    "x_train, x_temp, y_train, y_temp = train_test_split(data, target, test_size = 0.4, random_state = 1)\n",
    "\n",
    "# Split the 40% subset above into two: one half for cross validation and the other for the test set\n",
    "x_cv, x_test, y_cv, y_test = train_test_split(x_temp, y_temp, test_size=0.50, random_state=1)"
   ],
   "metadata": {
    "collapsed": false,
    "ExecuteTime": {
     "end_time": "2023-12-23T10:50:02.828079Z",
     "start_time": "2023-12-23T10:50:02.825779Z"
    }
   },
   "id": "30566f8a58219c02"
  },
  {
   "cell_type": "code",
   "execution_count": 248,
   "outputs": [
    {
     "name": "stdout",
     "output_type": "stream",
     "text": [
      "the shape of the training set (input) is: (64, 1078)\n",
      "the shape of the training set (target) is: (1, 1078)\n",
      "\n",
      "the shape of the cross validation set (input) is: (64, 359)\n",
      "the shape of the cross validation set (target) is: (1, 359)\n",
      "\n",
      "the shape of the test set (input) is: (64, 360)\n",
      "the shape of the test set (target) is: (1, 360)\n"
     ]
    }
   ],
   "source": [
    "# Delete temporary variables\n",
    "del x_temp, y_temp\n",
    "x_train = x_train.T\n",
    "x_cv = x_cv.T\n",
    "x_test = x_test.T\n",
    "\n",
    "y_train = y_train.T\n",
    "y_cv = y_cv.T\n",
    "y_test = y_test.T\n",
    "print(f\"the shape of the training set (input) is: {x_train.shape}\")\n",
    "print(f\"the shape of the training set (target) is: {y_train.shape}\\n\")\n",
    "print(f\"the shape of the cross validation set (input) is: {x_cv.shape}\")\n",
    "print(f\"the shape of the cross validation set (target) is: {y_cv.shape}\\n\")\n",
    "print(f\"the shape of the test set (input) is: {x_test.shape}\")\n",
    "print(f\"the shape of the test set (target) is: {y_test.shape}\")"
   ],
   "metadata": {
    "collapsed": false,
    "ExecuteTime": {
     "end_time": "2023-12-23T10:50:02.833851Z",
     "start_time": "2023-12-23T10:50:02.828942Z"
    }
   },
   "id": "94d619acda9058c2"
  },
  {
   "cell_type": "code",
   "execution_count": 249,
   "outputs": [],
   "source": [
    "def one_hot(Y):\n",
    "    one_hot_Y = to_categorical(Y[0]) #The target data set is 2D array, therefore needs Y[0]\n",
    "    one_hot_Y = one_hot_Y.T\n",
    "    return one_hot_Y"
   ],
   "metadata": {
    "collapsed": false,
    "ExecuteTime": {
     "end_time": "2023-12-23T10:50:02.834860Z",
     "start_time": "2023-12-23T10:50:02.833394Z"
    }
   },
   "id": "8d706e2c985bd2a2"
  },
  {
   "cell_type": "markdown",
   "source": [
    "## Model Definition\n",
    "\n",
    "Defining the architecture of the neural network model. This includes initializing model parameters, setting up the layer functions, forward prop, backward prop and gradient descent.\n"
   ],
   "metadata": {
    "collapsed": false
   },
   "id": "3e7fa87a5adc0520"
  },
  {
   "cell_type": "code",
   "execution_count": 250,
   "outputs": [],
   "source": [
    "def init_param():\n",
    "    W1 = np.random.randn(10, 64) / np.sqrt(74)\n",
    "    b1 = np.random.randn(10, 1) / np.sqrt(11)\n",
    "    W2 = np.random.randn(10, 10) / np.sqrt(20)\n",
    "    b2 = np.random.randn(10, 1) / np.sqrt(11)\n",
    "    return W1, b1, W2, b2"
   ],
   "metadata": {
    "collapsed": false,
    "ExecuteTime": {
     "end_time": "2023-12-23T10:50:02.845529Z",
     "start_time": "2023-12-23T10:50:02.835770Z"
    }
   },
   "id": "34f07a1cf51aa76d"
  },
  {
   "cell_type": "code",
   "execution_count": 251,
   "outputs": [],
   "source": [
    "def ReLU(Z):\n",
    "    return np.maximum(Z, 0)"
   ],
   "metadata": {
    "collapsed": false,
    "ExecuteTime": {
     "end_time": "2023-12-23T10:50:02.845678Z",
     "start_time": "2023-12-23T10:50:02.837921Z"
    }
   },
   "id": "705cd09f9f9a1f2a"
  },
  {
   "cell_type": "code",
   "execution_count": 252,
   "outputs": [],
   "source": [
    "def Softmax(Z):\n",
    "    a = np.exp(Z) / sum(np.exp(Z))\n",
    "    return a"
   ],
   "metadata": {
    "collapsed": false,
    "ExecuteTime": {
     "end_time": "2023-12-23T10:50:02.918259Z",
     "start_time": "2023-12-23T10:50:02.843929Z"
    }
   },
   "id": "31636408a4f8abff"
  },
  {
   "cell_type": "code",
   "execution_count": 253,
   "outputs": [],
   "source": [
    "# First layer of ReLU, Second layer of Softmax\n",
    "def forward_prop(W1, B1, W2, B2, X):\n",
    "    Z1 = np.dot(W1, X) + B1\n",
    "    A1 = ReLU(Z1)\n",
    "    Z2 = np.dot(W2, A1) + B2\n",
    "    A2 = Softmax(Z2)\n",
    "    return Z1, A1, Z2, A2"
   ],
   "metadata": {
    "collapsed": false,
    "ExecuteTime": {
     "end_time": "2023-12-23T10:50:02.919213Z",
     "start_time": "2023-12-23T10:50:02.846255Z"
    }
   },
   "id": "815ad18a39442598"
  },
  {
   "cell_type": "code",
   "execution_count": 254,
   "outputs": [],
   "source": [
    "def deriv_ReLU(Z):\n",
    "    return Z > 0"
   ],
   "metadata": {
    "collapsed": false,
    "ExecuteTime": {
     "end_time": "2023-12-23T10:50:02.919274Z",
     "start_time": "2023-12-23T10:50:02.848156Z"
    }
   },
   "id": "31ed7c916829ab05"
  },
  {
   "cell_type": "markdown",
   "source": [
    "## Backward Propagation Calculation"
   ],
   "metadata": {
    "collapsed": false
   },
   "id": "8edfd1ba1739e300"
  },
  {
   "cell_type": "markdown",
   "source": [
    "$$\n",
    "\\text{Back Propagation Calculation}\n",
    "$$\n",
    "\n",
    "$$\n",
    "\\text{The loss function L is defined below}\n",
    "$$\n",
    "\n",
    "$$\n",
    "L = - \\sum_{i}{y_i * ln(a_i)}\n",
    "$$\n",
    "\n",
    "$$\n",
    "y_i \\text{ is the true label 0/1 for the corresponding softmax activation output } a_i\n",
    "$$\n",
    "\n",
    "$$\n",
    "\\frac{\\partial L}{\\partial Z_i} = -(\\frac{y_i}{a_i} * \\frac{\\partial a_i}{\\partial Z_i} + \\sum_{k \\neq i}{\\frac{y_k}{a_k} * \\frac{\\partial a_k}{\\partial Z_i}})\n",
    "$$\n",
    "\n",
    "$$\n",
    "\\text{The derivative is seperated to two parts because there's two circumstance}\n",
    "$$\n",
    "\n",
    "$$\n",
    "\\text{which the input Z's index is equal to y's index and the input Z's index is different to y's index}\n",
    "$$\n",
    "\n",
    "$$\n",
    "\\frac{\\partial L}{\\partial Z_i} = a_i - y_i\n",
    "$$\n",
    "\n",
    "$$\n",
    "Z_2 = W_2 * A_1 + B_2\n",
    "$$\n",
    "\n",
    "$$\n",
    "\\frac{\\partial L}{\\partial W_2} = \\frac{\\partial L}{\\partial Z_2} * \\frac{\\partial Z_2}{\\partial W_2}\n",
    "=(a_2 - y_i) * a_1\n",
    "$$\n",
    "\n",
    "$$\n",
    "\\frac{\\partial L}{\\partial B_2} = \\frac{\\partial L}{\\partial Z_2} * \\frac{\\partial Z_2}{\\partial B_2} = (a_2 - y_i) * 1\n",
    "$$\n",
    "\n",
    "$$\n",
    "\\frac{\\partial L}{\\partial Z_1} = \\frac{\\partial L}{\\partial Z_2} * \\frac{\\partial Z_2}{\\partial a_2} * \\frac{\\partial a_2}{\\partial Z_1} = (a_2 - y_i) * W_2 * ReLU'(Z1)\n",
    "$$\n",
    "\n",
    "$$\n",
    "\\frac{\\partial L}{\\partial W_1} = \\frac{\\partial L}{\\partial Z_2} * \\frac{\\partial Z_2}{\\partial a_2} * \\frac{\\partial a_2}{\\partial Z_1} * \\frac{\\partial Z_1}{\\partial W_1} = \\frac{\\partial L}{\\partial Z_1} * X\n",
    "$$\n",
    "\n",
    "$$\n",
    "\\frac{\\partial L}{\\partial B_1} = \\frac{\\partial L}{\\partial Z_2} * \\frac{\\partial Z_2}{\\partial a_2} * \\frac{\\partial a_2}{\\partial Z_1} * \\frac{\\partial Z_1}{\\partial W_1} = \\frac{\\partial L}{\\partial Z_1} * 1\n",
    "$$\n",
    "\n",
    "$$\n",
    "\\text{The Cost function will be the average of the sum of the loss function}\n",
    "$$"
   ],
   "metadata": {
    "collapsed": false
   },
   "id": "3935782f835f10a"
  },
  {
   "cell_type": "code",
   "execution_count": 255,
   "outputs": [],
   "source": [
    "def back_prop(Z1, A1, W2, A2, X, Y):\n",
    "    one_hot_Y = one_hot(Y)\n",
    "    dCost_dZ2 = A2 - one_hot_Y\n",
    "    dCost_dW2 = 1 / m * np.dot(dCost_dZ2, A1.T)\n",
    "    dCost_dB2 = 1 / m * np.sum(dCost_dZ2)\n",
    "    \n",
    "    dCost_dZ1 = np.dot(W2.T, dCost_dZ2) * deriv_ReLU(Z1)\n",
    "    dCost_dW1 = 1 / m * np.dot(dCost_dZ1, X.T)\n",
    "    dCost_dB1 = 1 / m * np.sum(dCost_dZ1)\n",
    "    \n",
    "    return dCost_dW2, dCost_dB2, dCost_dW1, dCost_dB1  "
   ],
   "metadata": {
    "collapsed": false,
    "ExecuteTime": {
     "end_time": "2023-12-23T10:50:02.919317Z",
     "start_time": "2023-12-23T10:50:02.851265Z"
    }
   },
   "id": "fec61bf889c84fca"
  },
  {
   "cell_type": "code",
   "execution_count": 256,
   "outputs": [],
   "source": [
    "def gradient_descent(W1, B1, W2, B2, dW1, dB1, dW2, dB2, alpha):\n",
    "    W1 = W1 - alpha * dW1 \n",
    "    B1 = B1 - alpha * dB1 \n",
    "    W2 = W2 - alpha * dW2\n",
    "    B2 = B2 - alpha * dB2\n",
    "    return W1, B1, W2, B2"
   ],
   "metadata": {
    "collapsed": false,
    "ExecuteTime": {
     "end_time": "2023-12-23T10:50:02.919362Z",
     "start_time": "2023-12-23T10:50:02.853294Z"
    }
   },
   "id": "fb51d1b5700545d5"
  },
  {
   "cell_type": "code",
   "execution_count": 257,
   "outputs": [],
   "source": [
    "def prediction(A2):\n",
    "    predict = np.argmax(A2, 0)\n",
    "    return predict"
   ],
   "metadata": {
    "collapsed": false,
    "ExecuteTime": {
     "end_time": "2023-12-23T10:50:02.919404Z",
     "start_time": "2023-12-23T10:50:02.855362Z"
    }
   },
   "id": "b6076e341e870479"
  },
  {
   "cell_type": "code",
   "execution_count": 258,
   "outputs": [],
   "source": [
    "def accuracy(predict, Y):\n",
    "    print(f\"Predict : {predict}\")\n",
    "    print(f\"True Label : {Y[0]}\")\n",
    "    return np.sum(predict == Y[0]) / Y[0].size"
   ],
   "metadata": {
    "collapsed": false,
    "ExecuteTime": {
     "end_time": "2023-12-23T10:50:02.919439Z",
     "start_time": "2023-12-23T10:50:02.857193Z"
    }
   },
   "id": "24de9f68fa8009b2"
  },
  {
   "cell_type": "markdown",
   "source": [
    "## Model Training\n",
    "\n",
    "Training the model on the training data. Feeding the training data through the model and adjusting the model weights based on the loss.\n"
   ],
   "metadata": {
    "collapsed": false
   },
   "id": "8b2f5d774cdca623"
  },
  {
   "cell_type": "code",
   "execution_count": 259,
   "outputs": [],
   "source": [
    "def train(X, Y, iterations, alpha):\n",
    "    W1, B1, W2, B2 = init_param()\n",
    "    for i in range(iterations):\n",
    "        Z1, A1, Z2, A2 = forward_prop(W1, B1, W2, B2, X)\n",
    "        dW2, dB2, dW1, dB1 = back_prop(Z1, A1, W2, A2, X, Y)\n",
    "        W1, B1, W2, B2 = gradient_descent(W1, B1, W2, B2, dW1, dB1, dW2, dB2, alpha)\n",
    "        if i % 100 == 0:\n",
    "            print(\"Epoch\", i)\n",
    "            print(\"Accuracy: \", accuracy(prediction(A2), Y))\n",
    "    \n",
    "    return W1, B1, W2, B2"
   ],
   "metadata": {
    "collapsed": false,
    "ExecuteTime": {
     "end_time": "2023-12-23T10:50:02.935026Z",
     "start_time": "2023-12-23T10:50:02.860448Z"
    }
   },
   "id": "8c2be5b61ed6b7a1"
  },
  {
   "cell_type": "markdown",
   "source": [
    "#### Starting to train the model with 5000 iterations and learning rate of 0.01"
   ],
   "metadata": {
    "collapsed": false
   },
   "id": "d747c695cc436ac3"
  },
  {
   "cell_type": "code",
   "execution_count": 260,
   "outputs": [
    {
     "name": "stdout",
     "output_type": "stream",
     "text": [
      "Epoch 0\n",
      "Predict : [1 0 7 ... 3 9 7]\n",
      "True Label : [3 5 4 ... 9 1 5]\n",
      "Accuracy:  0.10204081632653061\n",
      "Epoch 100\n",
      "Predict : [7 4 7 ... 9 1 9]\n",
      "True Label : [3 5 4 ... 9 1 5]\n",
      "Accuracy:  0.4962894248608534\n",
      "Epoch 200\n",
      "Predict : [2 4 4 ... 9 1 9]\n",
      "True Label : [3 5 4 ... 9 1 5]\n",
      "Accuracy:  0.6660482374768089\n",
      "Epoch 300\n",
      "Predict : [9 0 4 ... 9 1 9]\n",
      "True Label : [3 5 4 ... 9 1 5]\n",
      "Accuracy:  0.7551020408163265\n",
      "Epoch 400\n",
      "Predict : [3 0 4 ... 9 1 5]\n",
      "True Label : [3 5 4 ... 9 1 5]\n",
      "Accuracy:  0.852504638218924\n",
      "Epoch 500\n",
      "Predict : [3 0 4 ... 9 1 5]\n",
      "True Label : [3 5 4 ... 9 1 5]\n",
      "Accuracy:  0.8933209647495362\n",
      "Epoch 600\n",
      "Predict : [3 0 4 ... 9 1 5]\n",
      "True Label : [3 5 4 ... 9 1 5]\n",
      "Accuracy:  0.9146567717996289\n",
      "Epoch 700\n",
      "Predict : [3 0 4 ... 9 1 5]\n",
      "True Label : [3 5 4 ... 9 1 5]\n",
      "Accuracy:  0.9239332096474954\n",
      "Epoch 800\n",
      "Predict : [3 5 4 ... 9 1 5]\n",
      "True Label : [3 5 4 ... 9 1 5]\n",
      "Accuracy:  0.9341372912801484\n",
      "Epoch 900\n",
      "Predict : [3 5 4 ... 9 1 5]\n",
      "True Label : [3 5 4 ... 9 1 5]\n",
      "Accuracy:  0.9387755102040817\n",
      "Epoch 1000\n",
      "Predict : [3 5 4 ... 9 1 5]\n",
      "True Label : [3 5 4 ... 9 1 5]\n",
      "Accuracy:  0.9415584415584416\n",
      "Epoch 1100\n",
      "Predict : [3 5 4 ... 9 1 5]\n",
      "True Label : [3 5 4 ... 9 1 5]\n",
      "Accuracy:  0.9471243042671614\n",
      "Epoch 1200\n",
      "Predict : [3 5 4 ... 9 1 5]\n",
      "True Label : [3 5 4 ... 9 1 5]\n",
      "Accuracy:  0.9573283858998145\n",
      "Epoch 1300\n",
      "Predict : [3 5 4 ... 9 1 5]\n",
      "True Label : [3 5 4 ... 9 1 5]\n",
      "Accuracy:  0.9647495361781077\n",
      "Epoch 1400\n",
      "Predict : [3 5 4 ... 9 1 5]\n",
      "True Label : [3 5 4 ... 9 1 5]\n",
      "Accuracy:  0.9684601113172542\n",
      "Epoch 1500\n",
      "Predict : [3 5 4 ... 9 1 5]\n",
      "True Label : [3 5 4 ... 9 1 5]\n",
      "Accuracy:  0.9712430426716141\n",
      "Epoch 1600\n",
      "Predict : [3 5 4 ... 9 1 5]\n",
      "True Label : [3 5 4 ... 9 1 5]\n",
      "Accuracy:  0.974025974025974\n",
      "Epoch 1700\n",
      "Predict : [3 5 4 ... 9 1 5]\n",
      "True Label : [3 5 4 ... 9 1 5]\n",
      "Accuracy:  0.9749536178107606\n",
      "Epoch 1800\n",
      "Predict : [3 5 4 ... 9 1 5]\n",
      "True Label : [3 5 4 ... 9 1 5]\n",
      "Accuracy:  0.9768089053803339\n",
      "Epoch 1900\n",
      "Predict : [3 5 4 ... 9 1 5]\n",
      "True Label : [3 5 4 ... 9 1 5]\n",
      "Accuracy:  0.9786641929499073\n",
      "Epoch 2000\n",
      "Predict : [3 5 4 ... 9 1 5]\n",
      "True Label : [3 5 4 ... 9 1 5]\n",
      "Accuracy:  0.9795918367346939\n",
      "Epoch 2100\n",
      "Predict : [3 5 4 ... 9 1 5]\n",
      "True Label : [3 5 4 ... 9 1 5]\n",
      "Accuracy:  0.9805194805194806\n",
      "Epoch 2200\n",
      "Predict : [3 5 4 ... 9 1 5]\n",
      "True Label : [3 5 4 ... 9 1 5]\n",
      "Accuracy:  0.9805194805194806\n",
      "Epoch 2300\n",
      "Predict : [3 5 4 ... 9 1 5]\n",
      "True Label : [3 5 4 ... 9 1 5]\n",
      "Accuracy:  0.9814471243042672\n",
      "Epoch 2400\n",
      "Predict : [3 5 4 ... 9 1 5]\n",
      "True Label : [3 5 4 ... 9 1 5]\n",
      "Accuracy:  0.9833024118738405\n",
      "Epoch 2500\n",
      "Predict : [3 5 4 ... 9 1 5]\n",
      "True Label : [3 5 4 ... 9 1 5]\n",
      "Accuracy:  0.987012987012987\n",
      "Epoch 2600\n",
      "Predict : [3 5 4 ... 9 1 5]\n",
      "True Label : [3 5 4 ... 9 1 5]\n",
      "Accuracy:  0.9879406307977736\n",
      "Epoch 2700\n",
      "Predict : [3 5 4 ... 9 1 5]\n",
      "True Label : [3 5 4 ... 9 1 5]\n",
      "Accuracy:  0.9879406307977736\n",
      "Epoch 2800\n",
      "Predict : [3 5 4 ... 9 1 5]\n",
      "True Label : [3 5 4 ... 9 1 5]\n",
      "Accuracy:  0.9897959183673469\n",
      "Epoch 2900\n",
      "Predict : [3 5 4 ... 9 1 5]\n",
      "True Label : [3 5 4 ... 9 1 5]\n",
      "Accuracy:  0.9907235621521335\n",
      "Epoch 3000\n",
      "Predict : [3 5 4 ... 9 1 5]\n",
      "True Label : [3 5 4 ... 9 1 5]\n",
      "Accuracy:  0.9916512059369202\n",
      "Epoch 3100\n",
      "Predict : [3 5 4 ... 9 1 5]\n",
      "True Label : [3 5 4 ... 9 1 5]\n",
      "Accuracy:  0.9925788497217068\n",
      "Epoch 3200\n",
      "Predict : [3 5 4 ... 9 1 5]\n",
      "True Label : [3 5 4 ... 9 1 5]\n",
      "Accuracy:  0.9925788497217068\n",
      "Epoch 3300\n",
      "Predict : [3 5 4 ... 9 1 5]\n",
      "True Label : [3 5 4 ... 9 1 5]\n",
      "Accuracy:  0.9935064935064936\n",
      "Epoch 3400\n",
      "Predict : [3 5 4 ... 9 1 5]\n",
      "True Label : [3 5 4 ... 9 1 5]\n",
      "Accuracy:  0.9944341372912802\n",
      "Epoch 3500\n",
      "Predict : [3 5 4 ... 9 1 5]\n",
      "True Label : [3 5 4 ... 9 1 5]\n",
      "Accuracy:  0.9953617810760668\n",
      "Epoch 3600\n",
      "Predict : [3 5 4 ... 9 1 5]\n",
      "True Label : [3 5 4 ... 9 1 5]\n",
      "Accuracy:  0.9962894248608535\n",
      "Epoch 3700\n",
      "Predict : [3 5 4 ... 9 1 5]\n",
      "True Label : [3 5 4 ... 9 1 5]\n",
      "Accuracy:  0.9962894248608535\n",
      "Epoch 3800\n",
      "Predict : [3 5 4 ... 9 1 5]\n",
      "True Label : [3 5 4 ... 9 1 5]\n",
      "Accuracy:  0.9962894248608535\n",
      "Epoch 3900\n",
      "Predict : [3 5 4 ... 9 1 5]\n",
      "True Label : [3 5 4 ... 9 1 5]\n",
      "Accuracy:  0.9972170686456401\n",
      "Epoch 4000\n",
      "Predict : [3 5 4 ... 9 1 5]\n",
      "True Label : [3 5 4 ... 9 1 5]\n",
      "Accuracy:  0.9972170686456401\n",
      "Epoch 4100\n",
      "Predict : [3 5 4 ... 9 1 5]\n",
      "True Label : [3 5 4 ... 9 1 5]\n",
      "Accuracy:  0.9972170686456401\n",
      "Epoch 4200\n",
      "Predict : [3 5 4 ... 9 1 5]\n",
      "True Label : [3 5 4 ... 9 1 5]\n",
      "Accuracy:  0.9972170686456401\n",
      "Epoch 4300\n",
      "Predict : [3 5 4 ... 9 1 5]\n",
      "True Label : [3 5 4 ... 9 1 5]\n",
      "Accuracy:  0.9972170686456401\n",
      "Epoch 4400\n",
      "Predict : [3 5 4 ... 9 1 5]\n",
      "True Label : [3 5 4 ... 9 1 5]\n",
      "Accuracy:  0.9972170686456401\n",
      "Epoch 4500\n",
      "Predict : [3 5 4 ... 9 1 5]\n",
      "True Label : [3 5 4 ... 9 1 5]\n",
      "Accuracy:  0.9972170686456401\n",
      "Epoch 4600\n",
      "Predict : [3 5 4 ... 9 1 5]\n",
      "True Label : [3 5 4 ... 9 1 5]\n",
      "Accuracy:  0.9972170686456401\n",
      "Epoch 4700\n",
      "Predict : [3 5 4 ... 9 1 5]\n",
      "True Label : [3 5 4 ... 9 1 5]\n",
      "Accuracy:  0.9972170686456401\n",
      "Epoch 4800\n",
      "Predict : [3 5 4 ... 9 1 5]\n",
      "True Label : [3 5 4 ... 9 1 5]\n",
      "Accuracy:  0.9972170686456401\n",
      "Epoch 4900\n",
      "Predict : [3 5 4 ... 9 1 5]\n",
      "True Label : [3 5 4 ... 9 1 5]\n",
      "Accuracy:  0.9972170686456401\n"
     ]
    }
   ],
   "source": [
    "W1, B1, W2, B2 = train(x_train, y_train, 5000, 0.01)"
   ],
   "metadata": {
    "collapsed": false,
    "ExecuteTime": {
     "end_time": "2023-12-23T10:52:53.564144Z",
     "start_time": "2023-12-23T10:50:02.880322Z"
    }
   },
   "id": "6641bd453588421c"
  },
  {
   "cell_type": "markdown",
   "source": [
    "## Model Evaluation\n",
    "Results are shown by precision, recall and F1-score."
   ],
   "metadata": {
    "collapsed": false
   },
   "id": "4b042f0031b9adef"
  },
  {
   "cell_type": "code",
   "execution_count": 261,
   "outputs": [],
   "source": [
    "def make_predictions(W1, B1, W2, B2, X):\n",
    "    _, _, _, A2 = forward_prop(W1, B1, W2, B2, X)\n",
    "    predictions = prediction(A2)\n",
    "    return predictions"
   ],
   "metadata": {
    "collapsed": false,
    "ExecuteTime": {
     "end_time": "2023-12-23T10:52:53.575740Z",
     "start_time": "2023-12-23T10:52:53.570667Z"
    }
   },
   "id": "ca165c281813fc3c"
  },
  {
   "cell_type": "code",
   "execution_count": 262,
   "outputs": [
    {
     "name": "stdout",
     "output_type": "stream",
     "text": [
      "Predict : [4 7 1 5 2 7 0 3 3 1 8 2 9 8 4 4 8 4 6 1 0 1 3 7 6 9 9 4 4 9 4 9 1 7 1 1 4\n",
      " 4 9 9 3 0 5 2 4 9 4 5 5 8 4 0 6 5 5 8 1 2 0 4 3 9 9 7 7 0 8 2 2 9 7 1 6 0\n",
      " 4 7 6 5 7 5 7 6 1 4 9 0 1 4 1 6 9 8 3 4 0 4 4 0 6 6 5 7 1 1 7 1 7 6 4 8 6\n",
      " 3 5 8 4 9 2 5 4 2 0 5 3 6 3 2 6 6 9 9 2 6 0 7 2 3 4 0 1 9 4 6 1 6 0 0 0 9\n",
      " 2 3 2 8 6 3 1 3 2 2 3 0 7 4 0 0 2 6 0 8 6 5 8 1 0 6 4 3 8 2 7 3 0 3 0 7 2\n",
      " 3 4 2 1 5 1 0 4 3 7 6 6 9 5 5 5 4 1 2 3 7 5 1 5 1 8 2 1 7 8 3 5 1 0 1 3 3\n",
      " 8 9 9 5 4 7 4 7 0 3 0 2 3 4 6 8 0 4 3 7 2 7 2 3 9 3 1 2 5 7 9 9 1 8 3 4 4\n",
      " 6 7 4 8 0 9 4 3 6 9 8 1 2 4 4 6 7 6 9 3 2 3 9 2 4 3 3 6 9 2 2 9 0 0 8 8 1\n",
      " 6 7 0 9 6 5 6 3 6 2 8 6 9 0 4 5 4 4 1 3 3 0 8 3 3 9 5 0 1 9 5 2 0 5 1 3 4\n",
      " 5 2 1 5 8 7 1 9 6 3 2 4 0 0 9 4 7 0 1 1 5 8 1 7 1 1]\n",
      "True Label : [4 7 1 9 2 7 0 5 3 1 8 2 9 8 4 4 8 4 6 1 0 1 3 7 6 9 9 4 4 7 4 9 1 7 1 1 4\n",
      " 4 9 9 3 0 5 2 4 9 4 5 5 8 4 0 6 5 5 8 1 2 0 4 3 9 9 7 7 0 8 2 2 9 7 6 6 0\n",
      " 4 7 6 5 7 5 7 6 1 4 9 0 1 4 1 6 9 8 3 4 0 4 4 0 6 6 5 7 1 1 7 1 7 6 4 8 6\n",
      " 3 5 8 4 9 2 5 4 2 0 5 3 6 3 2 6 6 9 9 8 6 0 7 2 3 4 0 1 9 4 6 1 6 0 0 0 9\n",
      " 2 3 2 8 6 3 1 3 3 2 3 0 7 4 0 0 2 6 9 8 6 5 8 1 0 6 4 3 8 2 7 3 0 3 0 7 2\n",
      " 3 4 2 1 5 1 0 4 3 7 6 6 9 5 1 5 4 1 2 3 7 5 1 5 1 8 2 1 7 8 3 5 1 0 1 3 3\n",
      " 8 9 9 5 4 7 4 7 0 3 0 2 3 4 6 8 0 4 3 7 2 7 2 3 9 3 1 2 5 7 9 9 1 8 3 4 4\n",
      " 6 7 8 8 4 9 4 3 6 9 8 1 2 4 4 6 7 6 9 3 2 5 9 2 4 3 2 6 9 2 2 9 0 0 7 8 1\n",
      " 6 7 0 9 6 5 6 3 6 2 8 6 9 0 4 9 5 4 1 3 3 0 8 3 3 9 5 0 1 9 5 2 0 5 1 3 4\n",
      " 5 2 1 5 8 7 1 9 6 3 5 4 0 0 9 0 7 0 1 1 5 8 1 7 1 1]\n",
      "0.9526462395543176\n"
     ]
    }
   ],
   "source": [
    "cv_predictions = make_predictions(W1, B1, W2, B2, x_cv)\n",
    "print(accuracy(cv_predictions, y_cv))"
   ],
   "metadata": {
    "collapsed": false,
    "ExecuteTime": {
     "end_time": "2023-12-23T10:52:53.613152Z",
     "start_time": "2023-12-23T10:52:53.577434Z"
    }
   },
   "id": "fda4840535670887"
  },
  {
   "cell_type": "markdown",
   "source": [
    "##### Using sklearn's precision, recall and F1score to evaluate the results on the cv and test set."
   ],
   "metadata": {
    "collapsed": false
   },
   "id": "d2313c6315eab54f"
  },
  {
   "cell_type": "code",
   "execution_count": 263,
   "outputs": [
    {
     "data": {
      "text/plain": "(0.953146497144688, 0.9499238129312098, 0.9510851779044149, None)"
     },
     "execution_count": 263,
     "metadata": {},
     "output_type": "execute_result"
    }
   ],
   "source": [
    "precision_recall_fscore_support(y_cv[0], cv_predictions, average='macro')"
   ],
   "metadata": {
    "collapsed": false,
    "ExecuteTime": {
     "end_time": "2023-12-23T10:52:53.622937Z",
     "start_time": "2023-12-23T10:52:53.590622Z"
    }
   },
   "id": "82464f80624155c9"
  },
  {
   "cell_type": "code",
   "execution_count": 264,
   "outputs": [
    {
     "name": "stdout",
     "output_type": "stream",
     "text": [
      "Predict : [5 2 9 5 5 8 3 5 8 3 4 6 8 5 8 2 7 3 6 9 1 6 2 5 3 6 0 4 0 6 6 4 6 4 7 8 0\n",
      " 3 2 8 6 1 5 2 4 7 0 0 5 4 9 4 1 8 6 9 4 7 9 8 2 6 7 2 1 7 0 9 1 1 9 4 4 5\n",
      " 4 0 4 3 7 7 8 0 7 7 4 9 9 9 9 9 3 1 8 9 3 4 2 8 9 3 3 8 7 5 2 7 8 1 2 3 5\n",
      " 6 8 5 6 3 8 2 8 5 2 4 7 5 6 3 4 8 1 6 7 8 1 6 7 2 3 2 9 5 4 0 0 1 2 5 2 9\n",
      " 3 7 4 3 2 3 9 9 3 1 4 1 4 9 7 2 6 0 2 1 3 7 0 4 0 0 4 0 8 5 3 9 1 9 9 0 3\n",
      " 3 4 1 2 1 8 8 4 6 3 8 9 7 8 5 9 3 3 5 2 5 0 1 1 5 2 0 7 7 7 2 5 6 9 2 5 1\n",
      " 0 6 7 7 4 0 3 0 6 6 9 5 0 8 2 6 6 5 0 7 7 2 4 2 9 0 2 0 9 7 2 9 5 5 3 0 1\n",
      " 0 0 4 4 9 1 9 9 7 6 3 7 0 1 3 2 2 5 6 8 5 0 7 6 9 3 0 0 6 0 1 9 4 3 7 4 0\n",
      " 3 2 6 1 7 2 8 4 6 2 3 8 9 3 3 8 9 2 8 1 8 2 4 7 4 2 7 5 6 1 3 7 5 6 3 7 1\n",
      " 6 8 0 9 7 5 3 3 4 1 3 2 7 0 1 8 2 6 4 7 6 3 8 3 1 6 7]\n",
      "True Label : [5 2 9 5 5 8 3 5 8 3 4 6 8 5 8 2 7 3 6 9 1 6 2 5 3 6 0 4 0 6 6 4 6 4 7 8 0\n",
      " 3 2 8 6 1 5 2 4 7 0 0 5 4 9 4 1 8 6 9 4 7 9 8 2 6 7 2 8 7 0 9 1 1 9 4 4 5\n",
      " 4 0 4 9 7 7 8 0 7 7 4 9 9 9 9 9 3 1 8 9 3 4 8 8 9 3 3 8 3 9 2 7 8 1 2 3 5\n",
      " 5 8 5 6 3 8 2 8 5 2 4 7 5 6 3 4 8 1 6 7 8 1 6 7 2 3 2 9 5 4 0 0 1 2 5 2 7\n",
      " 3 7 4 3 2 3 9 9 3 8 4 1 4 9 7 2 6 0 2 5 3 7 0 4 0 0 4 0 8 5 3 9 1 9 9 0 3\n",
      " 3 4 1 2 1 8 8 4 6 3 8 5 7 8 5 9 3 3 5 2 5 0 1 1 5 2 0 7 7 7 2 5 6 3 2 5 1\n",
      " 0 6 7 7 4 0 3 0 6 6 9 5 0 8 2 6 6 5 0 7 7 2 4 2 9 0 3 0 9 7 2 9 5 5 9 0 1\n",
      " 0 0 4 7 9 1 9 9 7 6 3 7 0 1 3 2 2 5 6 8 5 0 7 6 9 3 0 0 6 0 4 9 4 3 7 4 0\n",
      " 3 2 6 1 7 3 8 4 6 2 3 8 9 3 3 8 9 2 8 1 9 2 4 7 4 2 7 5 6 1 3 7 5 6 3 7 1\n",
      " 6 8 0 9 7 5 3 3 4 1 3 2 7 0 1 8 2 6 4 7 6 3 8 3 1 6 7]\n",
      "0.9527777777777777\n"
     ]
    }
   ],
   "source": [
    "test_predictions = make_predictions(W1, B1, W2, B2, x_test)\n",
    "print(accuracy(test_predictions, y_test))"
   ],
   "metadata": {
    "collapsed": false,
    "ExecuteTime": {
     "end_time": "2023-12-23T10:52:53.623303Z",
     "start_time": "2023-12-23T10:52:53.607295Z"
    }
   },
   "id": "5944a76529b741c6"
  },
  {
   "cell_type": "code",
   "execution_count": 265,
   "outputs": [
    {
     "data": {
      "text/plain": "(0.9521648648866392, 0.9552526254987933, 0.9528402898315342, None)"
     },
     "execution_count": 265,
     "metadata": {},
     "output_type": "execute_result"
    }
   ],
   "source": [
    "precision_recall_fscore_support(y_test[0], test_predictions, average='macro')"
   ],
   "metadata": {
    "collapsed": false,
    "ExecuteTime": {
     "end_time": "2023-12-23T10:52:53.624613Z",
     "start_time": "2023-12-23T10:52:53.610965Z"
    }
   },
   "id": "e2657f4e68b695f4"
  },
  {
   "cell_type": "markdown",
   "source": [
    "##### Both F1score reached around 0.95."
   ],
   "metadata": {
    "collapsed": false
   },
   "id": "a14ac9d149471d02"
  }
 ],
 "metadata": {
  "kernelspec": {
   "display_name": "Python 3",
   "language": "python",
   "name": "python3"
  },
  "language_info": {
   "codemirror_mode": {
    "name": "ipython",
    "version": 2
   },
   "file_extension": ".py",
   "mimetype": "text/x-python",
   "name": "python",
   "nbconvert_exporter": "python",
   "pygments_lexer": "ipython2",
   "version": "2.7.6"
  }
 },
 "nbformat": 4,
 "nbformat_minor": 5
}
